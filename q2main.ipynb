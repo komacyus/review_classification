{
  "cells": [
    {
      "cell_type": "code",
      "execution_count": 47,
      "metadata": {
        "id": "11za9w7FqEL4"
      },
      "outputs": [],
      "source": [
        "import pandas as pd\n",
        "import numpy as np\n",
        "import matplotlib.pyplot as plt"
      ]
    },
    {
      "cell_type": "markdown",
      "metadata": {
        "id": "uHXwUR5rLxLY"
      },
      "source": [
        "<h1 style=\"color:#FF6F61;\">Question 2.1: Multinomial Naive Bayes</h1>"
      ]
    },
    {
      "cell_type": "code",
      "execution_count": 48,
      "metadata": {
        "colab": {
          "base_uri": "https://localhost:8080/"
        },
        "id": "ZByK5ortqiTS",
        "outputId": "731d8572-f690-41e6-d268-547509852bff"
      },
      "outputs": [
        {
          "output_type": "stream",
          "name": "stdout",
          "text": [
            "(2300, 3000)\n",
            "(2300, 1)\n"
          ]
        }
      ],
      "source": [
        "x_train = pd.read_csv('x_train.csv')\n",
        "y_train = pd.read_csv('y_train.csv', header=None)\n",
        "\n",
        "y_train.columns = ['label']\n",
        "\n",
        "print(x_train.shape)\n",
        "print(y_train.shape)"
      ]
    },
    {
      "cell_type": "code",
      "execution_count": 49,
      "metadata": {
        "colab": {
          "base_uri": "https://localhost:8080/"
        },
        "id": "t0EHRnPywrKy",
        "outputId": "15662021-725b-4f49-9e65-555de7e5b4b8"
      },
      "outputs": [
        {
          "output_type": "stream",
          "name": "stdout",
          "text": [
            "(700, 3000)\n",
            "(700, 1)\n"
          ]
        }
      ],
      "source": [
        "x_test = pd.read_csv('x_test.csv')\n",
        "y_test = pd.read_csv('y_test.csv', header=None)\n",
        "\n",
        "y_test.columns = ['label']\n",
        "\n",
        "print(x_test.shape)\n",
        "print(y_test.shape)"
      ]
    },
    {
      "cell_type": "code",
      "execution_count": 50,
      "metadata": {
        "colab": {
          "base_uri": "https://localhost:8080/"
        },
        "id": "2qoC__XjyLXG",
        "outputId": "af0698ef-ca46-40a0-cfb3-b37efa5df8b0"
      },
      "outputs": [
        {
          "output_type": "stream",
          "name": "stdout",
          "text": [
            "{'positive': 849, 'neutral': 762, 'negative': 689}\n",
            "{'positive': 251, 'neutral': 238, 'negative': 211}\n"
          ]
        }
      ],
      "source": [
        "review_label = {0:'negative', 1:'neutral', 2:'positive'}\n",
        "categorized_train = y_train['label'].map(review_label)\n",
        "\n",
        "train_reviews = categorized_train.value_counts()\n",
        "\n",
        "train_reviews = train_reviews.to_dict()\n",
        "\n",
        "print(train_reviews)\n",
        "\n",
        "categorized_test = y_test['label'].map(review_label)\n",
        "\n",
        "test_reviews = categorized_test.value_counts()\n",
        "\n",
        "test_reviews = test_reviews.to_dict()\n",
        "\n",
        "print(test_reviews)"
      ]
    },
    {
      "cell_type": "code",
      "execution_count": 51,
      "metadata": {
        "colab": {
          "base_uri": "https://localhost:8080/",
          "height": 301
        },
        "id": "Nxh2VeUC2KKJ",
        "outputId": "0c2d096e-f830-4a47-bd48-9913c80585ee"
      },
      "outputs": [
        {
          "output_type": "execute_result",
          "data": {
            "text/plain": [
              "Text(0.5, 1.0, 'Test Data')"
            ]
          },
          "metadata": {},
          "execution_count": 51
        },
        {
          "output_type": "display_data",
          "data": {
            "text/plain": [
              "<Figure size 640x480 with 2 Axes>"
            ],
            "image/png": "[encoded data removed]"
          },
          "metadata": {}
        }
      ],
      "source": [
        "labels = train_reviews.keys()\n",
        "train_counts = train_reviews.values()\n",
        "test_counts = test_reviews.values()\n",
        "colors = ['#4CAF50', '#9E9E9E', '#F44336']\n",
        "fig, (ax1, ax2) = plt.subplots(1, 2)\n",
        "\n",
        "ax1.pie(train_counts, labels=labels, autopct='%1.1f%%', startangle=120, colors=colors)\n",
        "ax2.pie(test_counts, labels=labels, autopct='%1.1f%%', startangle=120, colors=colors)\n",
        "\n",
        "ax1.set_title('Train Data')\n",
        "ax2.set_title('Test Data')"
      ]
    },
    {
      "cell_type": "markdown",
      "metadata": {
        "id": "dEHf969ZLxLf"
      },
      "source": [
        "<h3 style=\"color:blue\">Question 2.1.1</h4>\n"
      ]
    },
    {
      "cell_type": "code",
      "execution_count": 52,
      "metadata": {
        "colab": {
          "base_uri": "https://localhost:8080/"
        },
        "id": "CqDR7DXL4_zx",
        "outputId": "f503da6d-583f-44d5-ddb8-c74f2871abc0"
      },
      "outputs": [
        {
          "output_type": "stream",
          "name": "stdout",
          "text": [
            "-1.4113403930459782\n"
          ]
        }
      ],
      "source": [
        "positive_indices = y_train[y_train['label'] == 2].index\n",
        "num_of_good = 0\n",
        "for index in positive_indices:\n",
        "    num_of_good += x_train.loc[index]['good']\n",
        "\n",
        "P_good = num_of_good/len(positive_indices)\n",
        "print(np.log(P_good))"
      ]
    },
    {
      "cell_type": "code",
      "execution_count": 53,
      "metadata": {
        "colab": {
          "base_uri": "https://localhost:8080/"
        },
        "id": "vycyHNc99dSH",
        "outputId": "e30fb5b4-cd6b-4834-f42b-79c6881fabf2"
      },
      "outputs": [
        {
          "output_type": "stream",
          "name": "stdout",
          "text": [
            "-4.259152536523347\n"
          ]
        }
      ],
      "source": [
        "positive_indices = y_train[y_train['label'] == 2].index\n",
        "num_of_bad = 0\n",
        "for index in positive_indices:\n",
        "    num_of_bad += x_train.loc[index]['bad']\n",
        "\n",
        "\n",
        "P_bad = num_of_bad/len(positive_indices)\n",
        "print(np.log(P_bad))"
      ]
    },
    {
      "cell_type": "markdown",
      "metadata": {
        "id": "_-FRU4NPLxLg"
      },
      "source": [
        "<h1 style=\"color:#FF6F61;\">Question 2.2: Multinomial Naive Bayes</h1>"
      ]
    },
    {
      "cell_type": "code",
      "execution_count": 54,
      "metadata": {
        "id": "mRnrQ69PLxLg"
      },
      "outputs": [],
      "source": [
        "x_train_matrix = np.matrix(x_train)\n",
        "x_test_matrix = np.matrix(x_test)\n",
        "y_train_matrix = np.matrix(y_train)\n",
        "y_test_matrix = np.matrix(y_test)\n",
        "\n",
        "x_transpose = x_train_matrix.T"
      ]
    },
    {
      "cell_type": "code",
      "execution_count": 55,
      "metadata": {
        "id": "SsylLozjLxLg"
      },
      "outputs": [],
      "source": [
        "#function that finds the thetas for each word of given class, log[P(Xj | Y = yk)]\n",
        "def log_theta_calc(review_type):\n",
        "    review_matrix = np.matrix(np.zeros((y_train.shape[0], 1)))\n",
        "    review_indices = np.where(y_train_matrix == review_type)[0]\n",
        "    review_matrix[review_indices] = 1\n",
        "    column = x_transpose @ review_matrix\n",
        "    column = column / column.sum()\n",
        "    column = np.log(column)\n",
        "    column[column == -np.inf] = -10**12\n",
        "    return column"
      ]
    },
    {
      "cell_type": "code",
      "execution_count": 56,
      "metadata": {
        "colab": {
          "base_uri": "https://localhost:8080/"
        },
        "id": "Eq8g6ZpCLxLg",
        "outputId": "3f0f2ca8-5c5a-4afe-a0cf-6cbb058054b8"
      },
      "outputs": [
        {
          "output_type": "stream",
          "name": "stdout",
          "text": [
            "[[-8.55101474e+00 -1.00000000e+12 -9.62032857e+00]\n",
            " [-7.45240245e+00 -7.29720392e+00 -6.72995681e+00]\n",
            " [-8.04018912e+00 -9.08896339e+00 -9.62032857e+00]\n",
            " ...\n",
            " [-1.00000000e+12 -1.00000000e+12 -1.00000000e+12]\n",
            " [-8.95647985e+00 -8.39581621e+00 -9.62032857e+00]\n",
            " [-9.64962703e+00 -9.08896339e+00 -1.00000000e+12]]\n"
          ]
        },
        {
          "output_type": "stream",
          "name": "stderr",
          "text": [
            "<ipython-input-55-e3945c576004>:8: RuntimeWarning: divide by zero encountered in log\n",
            "  column = np.log(column)\n"
          ]
        }
      ],
      "source": [
        "log_theta_matrix = np.zeros((len(x_test.columns), 3))\n",
        "for k in range(3):\n",
        "    review_k_column = log_theta_calc(k)\n",
        "    log_theta_matrix[:, k] = review_k_column.ravel()\n",
        "\n",
        "print(log_theta_matrix)"
      ]
    },
    {
      "cell_type": "code",
      "execution_count": 57,
      "metadata": {
        "colab": {
          "base_uri": "https://localhost:8080/"
        },
        "id": "k2xMmCauLxLh",
        "outputId": "13dcd9aa-7d12-4682-ff33-a56106ff4a15"
      },
      "outputs": [
        {
          "output_type": "stream",
          "name": "stdout",
          "text": [
            "     predictions\n",
            "0              2\n",
            "1              2\n",
            "2              0\n",
            "3              2\n",
            "4              0\n",
            "..           ...\n",
            "695            0\n",
            "696            1\n",
            "697            0\n",
            "698            1\n",
            "699            2\n",
            "\n",
            "[700 rows x 1 columns]\n"
          ]
        }
      ],
      "source": [
        "predictions = []\n",
        "\n",
        "π = np.log(y_train.value_counts()/y_train.shape[0])\n",
        "π[np.isneginf(π)] = -10**12\n",
        "\n",
        "for row in x_test_matrix:\n",
        "    y_values = []\n",
        "    for k in range(3):\n",
        "        y = π[k]\n",
        "        y += row @ log_theta_matrix[:, k]\n",
        "        y_values.append(y)\n",
        "\n",
        "    classification = np.argmax(y_values)\n",
        "    predictions.append(classification)\n",
        "\n",
        "predictions_df = pd.DataFrame(predictions, columns=[\"predictions\"])\n",
        "\n",
        "print(predictions_df)"
      ]
    },
    {
      "cell_type": "code",
      "execution_count": 58,
      "metadata": {
        "colab": {
          "base_uri": "https://localhost:8080/"
        },
        "id": "dGu2KOYqLxLh",
        "outputId": "8f735c56-1373-438b-801f-5fe441720124"
      },
      "outputs": [
        {
          "output_type": "stream",
          "name": "stdout",
          "text": [
            "Accuracy: 58.143%\n"
          ]
        }
      ],
      "source": [
        "predictions_and_reals = predictions_df.merge(y_test, left_index=True, right_index=True)\n",
        "corrects = (predictions_and_reals['predictions'] == predictions_and_reals['label']).sum()\n",
        "accuracy = (corrects / len(y_test)) * 100\n",
        "print(f\"Accuracy: {accuracy:.3f}%\")"
      ]
    },
    {
      "cell_type": "code",
      "execution_count": 59,
      "metadata": {
        "colab": {
          "base_uri": "https://localhost:8080/"
        },
        "id": "fsmjibZsLxLi",
        "outputId": "5a651ecc-1f33-4bf8-b910-047c1e0e902a"
      },
      "outputs": [
        {
          "output_type": "execute_result",
          "data": {
            "text/plain": [
              "[[138, 76, 32], [41, 78, 28], [32, 84, 191]]"
            ]
          },
          "metadata": {},
          "execution_count": 59
        }
      ],
      "source": [
        "confusion_matrix = []\n",
        "for i in range(3):\n",
        "    count_list = []\n",
        "    for label in range(3):\n",
        "        matching_rows = predictions_and_reals[(predictions_and_reals['predictions'] == i) & (predictions_and_reals['label'] == label)]\n",
        "        count = len(matching_rows)\n",
        "        count_list.append(count)\n",
        "    confusion_matrix.append(count_list)\n",
        "confusion_matrix"
      ]
    },
    {
      "cell_type": "markdown",
      "metadata": {
        "id": "ZAMoibZ6LxLi"
      },
      "source": [
        "<h1 style=\"color:#FF6F61;\">Question 2.3: Multinomial Naive Bayes using a fair Dirichlet prior.</h1>\n",
        "Same code just little bit difference in theta calculation\n"
      ]
    },
    {
      "cell_type": "code",
      "execution_count": 60,
      "metadata": {
        "id": "zKH5u0_0LxLi"
      },
      "outputs": [],
      "source": [
        "#function that finds the thetas for each word of given class, log[P(Xj | Y = yk)] with addding alfa=1 for each word\n",
        "def log_theta_calc_dirichlet(review_type):\n",
        "    review_matrix = np.matrix(np.zeros((y_train.shape[0], 1)))\n",
        "    review_indices = np.where(y_train_matrix == review_type)[0]\n",
        "    review_matrix[review_indices] = 1\n",
        "    column = x_transpose @ review_matrix\n",
        "    column = (column + 1) / (column.sum() + x_train_matrix.shape[1])\n",
        "    column = np.log(column)\n",
        "    column[column == -np.inf] = -10**12\n",
        "    return column"
      ]
    },
    {
      "cell_type": "code",
      "execution_count": 61,
      "metadata": {
        "colab": {
          "base_uri": "https://localhost:8080/"
        },
        "id": "j751g_VqLxLj",
        "outputId": "9bcfd11e-d394-4740-ceba-053729887b3b"
      },
      "outputs": [
        {
          "output_type": "stream",
          "name": "stdout",
          "text": [
            "[[-8.44009614 -9.38067369 -9.10875052]\n",
            " [-7.52380541 -7.43476354 -6.85745872]\n",
            " [-8.03463103 -8.68752651 -9.10875052]\n",
            " ...\n",
            " [-9.8263905  -9.38067369 -9.8018977 ]\n",
            " [-8.72777821 -8.2820614  -9.10875052]\n",
            " [-9.13324332 -8.68752651 -9.8018977 ]]\n"
          ]
        }
      ],
      "source": [
        "log_theta_matrix_dirichlet = np.zeros((len(x_test.columns), 3))\n",
        "for k in range(3):\n",
        "    review_k_column = log_theta_calc_dirichlet(k)\n",
        "    log_theta_matrix_dirichlet[:, k] = review_k_column.ravel()\n",
        "\n",
        "print(log_theta_matrix_dirichlet)"
      ]
    },
    {
      "cell_type": "code",
      "execution_count": 62,
      "metadata": {
        "colab": {
          "base_uri": "https://localhost:8080/"
        },
        "id": "XupBO9XeLxLj",
        "outputId": "c9fa47b5-90e3-4a11-8e9a-b8476cfcc18c"
      },
      "outputs": [
        {
          "output_type": "stream",
          "name": "stdout",
          "text": [
            "     predictions\n",
            "0              2\n",
            "1              2\n",
            "2              0\n",
            "3              2\n",
            "4              0\n",
            "..           ...\n",
            "695            0\n",
            "696            2\n",
            "697            0\n",
            "698            1\n",
            "699            2\n",
            "\n",
            "[700 rows x 1 columns]\n"
          ]
        }
      ],
      "source": [
        "predictions_dirichlet = []\n",
        "\n",
        "π = np.log(y_train.value_counts()/y_train.shape[0])\n",
        "π[np.isneginf(π)] = -10**12\n",
        "\n",
        "for row in x_test_matrix:\n",
        "    y_values = []\n",
        "    for k in range(3):\n",
        "        y = π[k]\n",
        "        y += row @ log_theta_matrix_dirichlet[:, k]\n",
        "        y_values.append(y)\n",
        "\n",
        "    classification = np.argmax(y_values)\n",
        "    predictions_dirichlet.append(classification)\n",
        "\n",
        "predictions_dirichlet_df = pd.DataFrame(predictions_dirichlet, columns=[\"predictions\"])\n",
        "\n",
        "print(predictions_dirichlet_df)"
      ]
    },
    {
      "cell_type": "code",
      "execution_count": 63,
      "metadata": {
        "colab": {
          "base_uri": "https://localhost:8080/"
        },
        "id": "xKXuctY4LxLj",
        "outputId": "f823c7f7-8498-49b6-8be6-1a26353ab648"
      },
      "outputs": [
        {
          "output_type": "stream",
          "name": "stdout",
          "text": [
            "Accuracy: 64.857%\n"
          ]
        }
      ],
      "source": [
        "predictions_and_reals_dirichlet = predictions_dirichlet_df.merge(y_test, left_index=True, right_index=True)\n",
        "corrects_dirichlet = (predictions_and_reals_dirichlet['predictions'] == predictions_and_reals_dirichlet['label']).sum()\n",
        "accuracy_dirichlet = (corrects_dirichlet / len(y_test)) * 100\n",
        "print(f\"Accuracy: {accuracy_dirichlet:.3f}%\")"
      ]
    },
    {
      "cell_type": "code",
      "execution_count": 64,
      "metadata": {
        "colab": {
          "base_uri": "https://localhost:8080/"
        },
        "id": "2Kgs18miLxLj",
        "outputId": "80fa48c5-800a-4bd2-d619-0fb0ddc10ec8"
      },
      "outputs": [
        {
          "output_type": "execute_result",
          "data": {
            "text/plain": [
              "[[151, 73, 13], [45, 86, 21], [15, 79, 217]]"
            ]
          },
          "metadata": {},
          "execution_count": 64
        }
      ],
      "source": [
        "confusion_matrix = []\n",
        "for i in range(3):\n",
        "    count_list = []\n",
        "    for label in range(3):\n",
        "        matching_rows = predictions_and_reals_dirichlet[(predictions_and_reals_dirichlet['predictions'] == i) & (predictions_and_reals_dirichlet['label'] == label)]\n",
        "        count = len(matching_rows)\n",
        "        count_list.append(count)\n",
        "    confusion_matrix.append(count_list)\n",
        "confusion_matrix"
      ]
    },
    {
      "cell_type": "markdown",
      "metadata": {
        "id": "MVDQB_ooLxLj"
      },
      "source": [
        "<h1 style=\"color:#FF6F61;\">Question 2.4: Bernoulli Naive Bayes</h1>"
      ]
    },
    {
      "cell_type": "code",
      "execution_count": 65,
      "metadata": {
        "id": "7k8Uf6RVLxLj"
      },
      "outputs": [],
      "source": [
        "#function that turns to matrix into bernoulli matrix and finds the thetas for each word of given class, [P(Xj | Y = yk)]\n",
        "def theta_bernoulli(review_type):\n",
        "    transformed_matrix = np.where(x_train == 0, 0, 1)\n",
        "    bernoulli_matrix_T = transformed_matrix.T\n",
        "    review_matrix = np.matrix(np.zeros((y_train.shape[0], 1)))\n",
        "    review_indices = np.where(y_train_matrix == review_type)[0]\n",
        "    review_matrix[review_indices] = 1\n",
        "    column = bernoulli_matrix_T @ review_matrix\n",
        "    column += 1\n",
        "    column = column / (y_train.value_counts().get(review_type) + 2)\n",
        "    return column"
      ]
    },
    {
      "cell_type": "code",
      "source": [
        "predictions_bernoulli = []\n",
        "\n",
        "π = np.log(y_train.value_counts()/y_train.shape[0])\n",
        "π[np.isneginf(π)] = -10**12\n",
        "\n",
        "\n",
        "theta_0 = theta_bernoulli(0)\n",
        "theta_1 = theta_bernoulli(1)\n",
        "theta_2 = theta_bernoulli(2)\n",
        "thetas = [theta_0, theta_1, theta_2]\n",
        "\n",
        "print(theta_0)\n",
        "\n",
        "for row in x_test_matrix:\n",
        "    y_values = []\n",
        "    for k in range(3):\n",
        "        y = π[k]\n",
        "        theta = thetas[k]\n",
        "        log_prob_present = np.log(theta)\n",
        "        log_prob_absent = np.log(1 - theta)\n",
        "\n",
        "        log_likelihood = np.sum(row * log_prob_present + (1 - row) * log_prob_absent)\n",
        "        y_values.append(y + log_likelihood)\n",
        "\n",
        "    classification = np.argmax(y_values)\n",
        "    predictions_bernoulli.append(classification)\n",
        "\n",
        "predictions_bernoulli_df = pd.DataFrame(predictions_bernoulli, columns=[\"predictions\"])\n",
        "\n",
        "print(predictions_bernoulli_df)\n"
      ],
      "metadata": {
        "colab": {
          "base_uri": "https://localhost:8080/"
        },
        "id": "FnJd_0NCL4Y9",
        "outputId": "6bd3336c-b67c-4f23-914f-3d3917541290"
      },
      "execution_count": 66,
      "outputs": [
        {
          "output_type": "stream",
          "name": "stdout",
          "text": [
            "[[0.00578871]\n",
            " [0.01447178]\n",
            " [0.00868307]\n",
            " ...\n",
            " [0.00144718]\n",
            " [0.00434153]\n",
            " [0.00289436]]\n",
            "     predictions\n",
            "0              2\n",
            "1              2\n",
            "2              0\n",
            "3              2\n",
            "4              0\n",
            "..           ...\n",
            "695            0\n",
            "696            2\n",
            "697            1\n",
            "698            1\n",
            "699            1\n",
            "\n",
            "[700 rows x 1 columns]\n"
          ]
        }
      ]
    },
    {
      "cell_type": "code",
      "source": [
        "bernoulli_merged = predictions_bernoulli_df.merge(y_test, left_index=True, right_index=True)\n",
        "corrects = (bernoulli_merged['predictions'] == bernoulli_merged['label']).sum()\n",
        "accuracy = (corrects / len(y_test)) * 100\n",
        "print(f\"Accuracy: {accuracy:.3f}%\")"
      ],
      "metadata": {
        "colab": {
          "base_uri": "https://localhost:8080/"
        },
        "id": "Hv736EUtQMpl",
        "outputId": "a1860792-1049-4368-e900-90d7674061f8"
      },
      "execution_count": 67,
      "outputs": [
        {
          "output_type": "stream",
          "name": "stdout",
          "text": [
            "Accuracy: 65.143%\n"
          ]
        }
      ]
    },
    {
      "cell_type": "code",
      "source": [
        "confusion_matrix = []\n",
        "for i in range(3):\n",
        "    count_list = []\n",
        "    for label in range(3):\n",
        "        matching_rows = bernoulli_merged[(bernoulli_merged['predictions'] == i) & (bernoulli_merged['label'] == label)]\n",
        "        count = len(matching_rows)\n",
        "        count_list.append(count)\n",
        "    confusion_matrix.append(count_list)\n",
        "confusion_matrix"
      ],
      "metadata": {
        "colab": {
          "base_uri": "https://localhost:8080/"
        },
        "id": "XKxqeHSZcdzq",
        "outputId": "effde643-18f0-4812-c79f-110b0b17c17f"
      },
      "execution_count": 68,
      "outputs": [
        {
          "output_type": "execute_result",
          "data": {
            "text/plain": [
              "[[122, 33, 19], [82, 174, 72], [7, 31, 160]]"
            ]
          },
          "metadata": {},
          "execution_count": 68
        }
      ]
    }
  ],
  "metadata": {
    "colab": {
      "provenance": []
    },
    "kernelspec": {
      "display_name": "Python 3 (ipykernel)",
      "language": "python",
      "name": "python3"
    },
    "language_info": {
      "codemirror_mode": {
        "name": "ipython",
        "version": 3
      },
      "file_extension": ".py",
      "mimetype": "text/x-python",
      "name": "python",
      "nbconvert_exporter": "python",
      "pygments_lexer": "ipython3",
      "version": "3.11.4"
    }
  },
  "nbformat": 4,
  "nbformat_minor": 0
}